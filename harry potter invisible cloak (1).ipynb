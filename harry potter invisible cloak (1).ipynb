{
 "cells": [
  {
   "cell_type": "code",
   "execution_count": null,
   "metadata": {},
   "outputs": [],
   "source": [
    "import cv2\n",
    "import numpy as np\n",
    "import time\n",
    "\n",
    "print(\"\"\"\n",
    "Bhrugu :  \n",
    "         Prepare to get invisible .....................\n",
    "    \"\"\")\n",
    "\n",
    "cap = cv2.VideoCapture(0)\n",
    "time.sleep(3)\n",
    "background = 0\n",
    "for i in range(40):\n",
    "    ret, background = cap.read()\n",
    "\n",
    "background = np.flip(background, axis=1)\n",
    "\n",
    "while (cap.isOpened()):\n",
    "    ret, img = cap.read()\n",
    "\n",
    "    # Flipping the image (Can be uncommented if needed)\n",
    "    img = np.flip(img, axis=1)\n",
    "\n",
    "    # Converting image to HSV color space.\n",
    "    hsv = cv2.cvtColor(img, cv2.COLOR_BGR2HSV)\n",
    "    value = (35, 35)\n",
    "\n",
    "    blurred = cv2.GaussianBlur(hsv, value, 0)\n",
    "\n",
    "    # Defining lower range for red color detection.\n",
    "    lower_red = np.array([0, 120, 70])\n",
    "    upper_red = np.array([10, 255, 255])\n",
    "    mask1 = cv2.inRange(hsv, lower_red, upper_red)\n",
    "\n",
    "    # Defining upper range for red color detection\n",
    "    lower_red = np.array([170, 120, 70])\n",
    "    upper_red = np.array([180, 255, 255])\n",
    "    mask2 = cv2.inRange(hsv, lower_red, upper_red)\n",
    "\n",
    "    # Addition of the two masks to generate the final mask.\n",
    "    mask = mask1 + mask2\n",
    "    mask = cv2.morphologyEx(mask, cv2.MORPH_OPEN, np.ones((5, 5), np.uint8))\n",
    "\n",
    "    # Replacing pixels corresponding to cloak with the background pixels.\n",
    "    img[np.where(mask == 255)] = background[np.where(mask == 255)]\n",
    "    cv2.imshow('Display', img)\n",
    "    k = cv2.waitKey(10)\n",
    "    if k == 27:\n",
    "        break"
   ]
  },
  {
   "cell_type": "code",
   "execution_count": null,
   "metadata": {},
   "outputs": [],
   "source": []
  },
  {
   "cell_type": "code",
   "execution_count": null,
   "metadata": {},
   "outputs": [],
   "source": []
  }
 ],
 "metadata": {
  "kernelspec": {
   "display_name": "Python 3",
   "language": "python",
   "name": "python3"
  },
  "language_info": {
   "codemirror_mode": {
    "name": "ipython",
    "version": 3
   },
   "file_extension": ".py",
   "mimetype": "text/x-python",
   "name": "python",
   "nbconvert_exporter": "python",
   "pygments_lexer": "ipython3",
   "version": "3.7.6"
  }
 },
 "nbformat": 4,
 "nbformat_minor": 4
}
